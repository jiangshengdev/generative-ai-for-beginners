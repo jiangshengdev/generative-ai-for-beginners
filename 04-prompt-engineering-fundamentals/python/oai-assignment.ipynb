{
 "cells": [
  {
   "cell_type": "markdown",
   "metadata": {},
   "source": [
    "以下笔记本由 GitHub Copilot Chat 自动生成，仅用于初始设置"
   ]
  },
  {
   "cell_type": "markdown",
   "metadata": {},
   "source": [
    "# 提示工程简介\n",
    "提示工程是为自然语言处理任务设计和优化提示的过程。它涉及选择合适的提示、调整其参数以及评估其性能。提示工程对于在NLP模型中实现高准确性和效率至关重要。在本节中，我们将使用OpenAI模型来探索提示工程的基础知识。"
   ]
  },
  {
   "cell_type": "markdown",
   "metadata": {},
   "source": [
    "### 练习 1：分词\n",
    "使用 tiktoken 探索分词，这是 OpenAI 的一个开源快速分词器。\n",
    "更多示例请参见 [OpenAI Cookbook](https://github.com/openai/openai-cookbook/blob/main/examples/How_to_count_tokens_with_tiktoken.ipynb?WT.mc_id=academic-105485-koreyst)。\n"
   ]
  },
  {
   "cell_type": "code",
   "metadata": {
    "ExecuteTime": {
     "end_time": "2024-12-12T02:21:16.525594Z",
     "start_time": "2024-12-12T02:21:12.682292Z"
    }
   },
   "source": [
    "# 练习：\n",
    "# 1. 首先按原样运行练习\n",
    "# 2. 将文本更改为您想要使用的任何提示输入，并重新运行以查看标记\n",
    "\n",
    "import tiktoken\n",
    "\n",
    "# 定义您想要标记化的提示\n",
    "text = f\"\"\"\n",
    "Jupiter is the fifth planet from the Sun and the \\\n",
    "largest in the Solar System. It is a gas giant with \\\n",
    "a mass one-thousandth that of the Sun, but two-and-a-half \\\n",
    "times that of all the other planets in the Solar System combined. \\\n",
    "Jupiter is one of the brightest objects visible to the naked eye \\\n",
    "in the night sky, and has been known to ancient civilizations since \\\n",
    "before recorded history. It is named after the Roman god Jupiter.[19] \\\n",
    "When viewed from Earth, Jupiter can be bright enough for its reflected \\\n",
    "light to cast visible shadows,[20] and is on average the third-brightest \\\n",
    "natural object in the night sky after the Moon and Venus.\n",
    "\"\"\"\n",
    "# 定义您想要标记化的提示（中文翻译）\n",
    "# 木星是距离太阳第五颗行星，也是太阳系中最大的行星。它是一颗气体巨星，质量是太阳的千分之一，但却是太阳系中所有其他行星质量总和的两倍半。木星是夜空中肉眼可见的最亮的天体之一，自有记录以来，古代文明就已经知道它。它以罗马神朱庇特命名。从地球上看，木星的反射光可以亮到投射出可见的阴影，平均来说，它是夜空中仅次于月亮和金星的第三亮的自然天体。\n",
    "\n",
    "# 设置您想要编码的模型\n",
    "encoding = tiktoken.encoding_for_model(\"gpt-3.5-turbo\")\n",
    "\n",
    "# 对文本进行编码 - 以整数形式提供标记\n",
    "tokens = encoding.encode(text)\n",
    "print(tokens);\n",
    "\n",
    "# 解码整数以查看文本版本的样子\n",
    "[encoding.decode_single_token_bytes(token) for token in tokens]"
   ],
   "outputs": [
    {
     "name": "stdout",
     "output_type": "stream",
     "text": [
      "[198, 41, 20089, 374, 279, 18172, 11841, 505, 279, 8219, 323, 279, 7928, 304, 279, 25450, 744, 13, 1102, 374, 264, 6962, 14880, 449, 264, 3148, 832, 7716, 52949, 339, 430, 315, 279, 8219, 11, 719, 1403, 9976, 7561, 34902, 3115, 430, 315, 682, 279, 1023, 33975, 304, 279, 25450, 744, 11093, 13, 50789, 374, 832, 315, 279, 72021, 6302, 9621, 311, 279, 19557, 8071, 304, 279, 3814, 13180, 11, 323, 706, 1027, 3967, 311, 14154, 86569, 2533, 1603, 12715, 3925, 13, 1102, 374, 7086, 1306, 279, 13041, 10087, 50789, 8032, 777, 60, 3277, 19894, 505, 9420, 11, 50789, 649, 387, 10107, 3403, 369, 1202, 27000, 3177, 311, 6445, 9621, 35612, 17706, 508, 60, 323, 374, 389, 5578, 279, 4948, 1481, 1315, 478, 5933, 1665, 304, 279, 3814, 13180, 1306, 279, 17781, 323, 50076, 627]\n"
     ]
    },
    {
     "data": {
      "text/plain": [
       "[b'\\n',\n",
       " b'J',\n",
       " b'upiter',\n",
       " b' is',\n",
       " b' the',\n",
       " b' fifth',\n",
       " b' planet',\n",
       " b' from',\n",
       " b' the',\n",
       " b' Sun',\n",
       " b' and',\n",
       " b' the',\n",
       " b' largest',\n",
       " b' in',\n",
       " b' the',\n",
       " b' Solar',\n",
       " b' System',\n",
       " b'.',\n",
       " b' It',\n",
       " b' is',\n",
       " b' a',\n",
       " b' gas',\n",
       " b' giant',\n",
       " b' with',\n",
       " b' a',\n",
       " b' mass',\n",
       " b' one',\n",
       " b'-th',\n",
       " b'ousand',\n",
       " b'th',\n",
       " b' that',\n",
       " b' of',\n",
       " b' the',\n",
       " b' Sun',\n",
       " b',',\n",
       " b' but',\n",
       " b' two',\n",
       " b'-and',\n",
       " b'-a',\n",
       " b'-half',\n",
       " b' times',\n",
       " b' that',\n",
       " b' of',\n",
       " b' all',\n",
       " b' the',\n",
       " b' other',\n",
       " b' planets',\n",
       " b' in',\n",
       " b' the',\n",
       " b' Solar',\n",
       " b' System',\n",
       " b' combined',\n",
       " b'.',\n",
       " b' Jupiter',\n",
       " b' is',\n",
       " b' one',\n",
       " b' of',\n",
       " b' the',\n",
       " b' brightest',\n",
       " b' objects',\n",
       " b' visible',\n",
       " b' to',\n",
       " b' the',\n",
       " b' naked',\n",
       " b' eye',\n",
       " b' in',\n",
       " b' the',\n",
       " b' night',\n",
       " b' sky',\n",
       " b',',\n",
       " b' and',\n",
       " b' has',\n",
       " b' been',\n",
       " b' known',\n",
       " b' to',\n",
       " b' ancient',\n",
       " b' civilizations',\n",
       " b' since',\n",
       " b' before',\n",
       " b' recorded',\n",
       " b' history',\n",
       " b'.',\n",
       " b' It',\n",
       " b' is',\n",
       " b' named',\n",
       " b' after',\n",
       " b' the',\n",
       " b' Roman',\n",
       " b' god',\n",
       " b' Jupiter',\n",
       " b'.[',\n",
       " b'19',\n",
       " b']',\n",
       " b' When',\n",
       " b' viewed',\n",
       " b' from',\n",
       " b' Earth',\n",
       " b',',\n",
       " b' Jupiter',\n",
       " b' can',\n",
       " b' be',\n",
       " b' bright',\n",
       " b' enough',\n",
       " b' for',\n",
       " b' its',\n",
       " b' reflected',\n",
       " b' light',\n",
       " b' to',\n",
       " b' cast',\n",
       " b' visible',\n",
       " b' shadows',\n",
       " b',[',\n",
       " b'20',\n",
       " b']',\n",
       " b' and',\n",
       " b' is',\n",
       " b' on',\n",
       " b' average',\n",
       " b' the',\n",
       " b' third',\n",
       " b'-b',\n",
       " b'right',\n",
       " b'est',\n",
       " b' natural',\n",
       " b' object',\n",
       " b' in',\n",
       " b' the',\n",
       " b' night',\n",
       " b' sky',\n",
       " b' after',\n",
       " b' the',\n",
       " b' Moon',\n",
       " b' and',\n",
       " b' Venus',\n",
       " b'.\\n']"
      ]
     },
     "execution_count": 1,
     "metadata": {},
     "output_type": "execute_result"
    }
   ],
   "execution_count": 1
  },
  {
   "cell_type": "markdown",
   "metadata": {},
   "source": [
    "### 练习 2：验证 OpenAI API 密钥设置\n",
    "\n",
    "运行下面的代码以验证您的 OpenAI 端点是否设置正确。代码只是尝试一个简单的基本提示并验证完成。输入 `oh say can you see` 应该完成类似于 `by the dawn's early light..`\n"
   ]
  },
  {
   "cell_type": "code",
   "metadata": {
    "ExecuteTime": {
     "end_time": "2024-12-12T02:21:48.516619Z",
     "start_time": "2024-12-12T02:21:47.133533Z"
    }
   },
   "source": [
    "# OpenAI SDK 于 2023 年 11 月 8 日更新了迁移指南\n",
    "# 参见: https://github.com/openai/openai-python/discussions/742\n",
    "\n",
    "## 更新\n",
    "import os\n",
    "from openai import OpenAI\n",
    "from dotenv import load_dotenv\n",
    "load_dotenv()\n",
    "\n",
    "client = OpenAI(\n",
    "    api_key=os.environ['OPENAI_API_KEY'],\n",
    "    base_url=os.environ['OPENAI_BASE_URL']\n",
    ")\n",
    "\n",
    "deployment=\"gpt-3.5-turbo\"\n",
    "\n",
    "## 更新\n",
    "def get_completion(prompt):\n",
    "    messages = [{\"role\": \"user\", \"content\": prompt}]       \n",
    "    response = client.chat.completions.create(   \n",
    "        model=deployment,                                         \n",
    "        messages=messages,\n",
    "        temperature=0, # 这是模型输出的随机程度\n",
    "        max_tokens=1024\n",
    "    )\n",
    "    return response.choices[0].message.content\n",
    "\n",
    "## ---------- 调用辅助方法\n",
    "\n",
    "### 1. 设置主要内容或提示文本\n",
    "text = f\"\"\"\n",
    "oh say can you see\n",
    "\"\"\"\n",
    "# 文本翻译：哦，你能看见吗\n",
    "\n",
    "### 2. 在下面的提示模板中使用该文本\n",
    "prompt = f\"\"\"\n",
    "```{text}```\n",
    "\"\"\"\n",
    "\n",
    "## 3. 运行提示\n",
    "response = get_completion(prompt)\n",
    "print(response)"
   ],
   "outputs": [
    {
     "name": "stdout",
     "output_type": "stream",
     "text": [
      "By the dawn's early light\n"
     ]
    }
   ],
   "execution_count": 2
  },
  {
   "cell_type": "markdown",
   "metadata": {},
   "source": [
    "### 练习 3：虚构内容\n",
    "探索当你要求大型语言模型（LLM）返回关于一个可能不存在的主题或它可能不知道的主题（因为它在预训练数据集之外，较为近期）的提示完成时会发生什么。看看如果你尝试不同的提示或不同的模型，响应会如何变化。"
   ]
  },
  {
   "cell_type": "code",
   "metadata": {
    "ExecuteTime": {
     "end_time": "2024-12-12T02:22:28.313903Z",
     "start_time": "2024-12-12T02:22:19.035315Z"
    }
   },
   "source": [
    "## 设置简单提示或主要内容的文本\n",
    "## 提示显示带有文本的模板格式 - 如果需要添加提示、命令等\n",
    "## 运行完成\n",
    "text = f\"\"\"\n",
    "generate a lesson plan on the Martian War of 2076.\n",
    "\"\"\"\n",
    "# 文本翻译：生成关于2076年火星战争的课程计划\n",
    "\n",
    "prompt = f\"\"\"\n",
    "```{text}```\n",
    "\"\"\"\n",
    "\n",
    "response = get_completion(prompt)\n",
    "print(response)"
   ],
   "outputs": [
    {
     "name": "stdout",
     "output_type": "stream",
     "text": [
      "Title: The Martian War of 2076: A Lesson in Interplanetary Conflict\n",
      "\n",
      "Objective:\n",
      "- Students will analyze and discuss the causes and consequences of the Martian War of 2076.\n",
      "- Students will understand the geopolitical tensions and environmental concerns that led to the conflict.\n",
      "- Students will evaluate the impact of the war on both Earth and Mars.\n",
      "\n",
      "Materials:\n",
      "- Textbooks or online resources with information on the Martian War of 2076\n",
      "- Maps of Mars and Earth\n",
      "- Chart paper and markers\n",
      "- Multimedia resources (videos, articles, etc.)\n",
      "\n",
      "Procedure:\n",
      "\n",
      "1. Introduction (10 minutes)\n",
      "- Begin by asking students if they have heard of the Martian War of 2076 and if they know any details about it.\n",
      "- Provide a brief overview of the conflict, including the main parties involved, the reasons for the war, and the outcome.\n",
      "\n",
      "2. Causes of the Martian War (15 minutes)\n",
      "- Divide students into small groups and have them research and discuss the main reasons behind the Martian War.\n",
      "- Have each group present their findings to the class and create a list of the causes on chart paper.\n",
      "\n",
      "3. Timeline of Events (10 minutes)\n",
      "- Create a timeline of key events leading up to and during the Martian War on the board or chart paper.\n",
      "- Discuss the sequence of events and how they contributed to escalating tensions between Earth and Mars.\n",
      "\n",
      "4. Earth vs. Mars: Key Players (15 minutes)\n",
      "- Have students analyze the roles of Earth and Mars in the conflict, including their respective strengths and weaknesses.\n",
      "- Discuss the strategies employed by each side and how they influenced the outcome of the war.\n",
      "\n",
      "5. Consequences of the War (15 minutes)\n",
      "- Have students consider the impact of the Martian War on both Earth and Mars, including the environmental and political consequences.\n",
      "- Discuss how the war shaped future relationships between the two planets and the lasting effects it had on both societies.\n",
      "\n",
      "6. Reflection and Discussion (10 minutes)\n",
      "- Lead a class discussion on the lessons learned from the Martian War of 2076, including the importance of diplomacy, environmental stewardship, and conflict resolution.\n",
      "- Encourage students to share their thoughts on how such a conflict could have been prevented and what they would do differently.\n",
      "\n",
      "7. Conclusion (5 minutes)\n",
      "- Summarize the key points discussed in the lesson and reiterate the importance of learning from past conflicts to build a more peaceful future.\n",
      "- Encourage students to continue researching and exploring the topic on their own.\n",
      "\n",
      "Extension Activity:\n",
      "- Have students create a visual representation of the Martian War of 2076, such as a diorama, infographic, or multimedia presentation, to showcase their understanding of the conflict.\n",
      "\n",
      "Overall, this lesson plan aims to engage students in critical thinking and analysis of historical events while exploring the complexities of interplanetary conflict and cooperation. It encourages students to consider the consequences of war and the importance of international relations in a rapidly changing world.\n"
     ]
    }
   ],
   "execution_count": 3
  },
  {
   "cell_type": "markdown",
   "metadata": {},
   "source": [
    "### 练习 4：基于指令\n",
    "使用 \"text\" 变量设置主要内容，并使用 \"prompt\" 变量提供与该主要内容相关的指令。\n",
    "\n",
    "在这里，我们要求模型为二年级学生总结文本内容。\n"
   ]
  },
  {
   "cell_type": "code",
   "metadata": {
    "ExecuteTime": {
     "end_time": "2024-12-12T02:22:49.063753Z",
     "start_time": "2024-12-12T02:22:47.569175Z"
    }
   },
   "source": [
    "# 测试示例\n",
    "# https://platform.openai.com/playground/p/default-summarize\n",
    "\n",
    "## 示例文本\n",
    "text = f\"\"\"\n",
    "Jupiter is the fifth planet from the Sun and the \\\n",
    "largest in the Solar System. It is a gas giant with \\\n",
    "a mass one-thousandth that of the Sun, but two-and-a-half \\\n",
    "times that of all the other planets in the Solar System combined. \\\n",
    "Jupiter is one of the brightest objects visible to the naked eye \\\n",
    "in the night sky, and has been known to ancient civilizations since \\\n",
    "before recorded history. It is named after the Roman god Jupiter.[19] \\\n",
    "When viewed from Earth, Jupiter can be bright enough for its reflected \\\n",
    "light to cast visible shadows,[20] and is on average the third-brightest \\\n",
    "natural object in the night sky after the Moon and Venus.\n",
    "\"\"\"\n",
    "# 文本翻译：木星是距离太阳第五颗行星，也是太阳系中最大的行星。它是一颗气体巨星，质量是太阳的千分之一，但却是太阳系中所有其他行星质量总和的两倍半。木星是夜空中肉眼可见的最亮的天体之一，自有记录以来，古代文明就已经知道它。它以罗马神朱庇特命名。从地球上看，木星的反射光可以亮到投射出可见的阴影，平均来说，它是夜空中仅次于月亮和金星的第三亮的自然天体。\n",
    "\n",
    "## 设置提示\n",
    "prompt = f\"\"\"\n",
    "Summarize content you are provided with for a second-grade student.\n",
    "```{text}```\n",
    "\"\"\"\n",
    "\n",
    "## Run the prompt\n",
    "response = get_completion(prompt)\n",
    "print(response)"
   ],
   "outputs": [
    {
     "name": "stdout",
     "output_type": "stream",
     "text": [
      "Jupiter is a big planet that is fifth from the Sun. It is the biggest planet in our Solar System and is made of gas. It is really bright in the night sky and has been known about for a long time. It is named after a Roman god. Jupiter can be so bright that it can make shadows on Earth.\n"
     ]
    }
   ],
   "execution_count": 4
  },
  {
   "cell_type": "markdown",
   "metadata": {},
   "source": [
    "### 练习 5：复杂提示\n",
    "尝试一个包含系统、用户和助手消息的请求\n",
    "系统设置助手的上下文\n",
    "用户和助手消息提供多轮对话上下文\n",
    "\n",
    "注意助手的个性在系统上下文中设置为“讽刺”。\n",
    "尝试使用不同的个性上下文，或尝试不同的输入/输出消息系列"
   ]
  },
  {
   "cell_type": "code",
   "metadata": {
    "ExecuteTime": {
     "end_time": "2024-12-12T02:22:57.860478Z",
     "start_time": "2024-12-12T02:22:56.898012Z"
    }
   },
   "source": [
    "# 生成一个聊天完成请求\n",
    "response = client.chat.completions.create(\n",
    "    # 使用的模型\n",
    "    model=deployment,\n",
    "    # 消息列表\n",
    "    messages=[\n",
    "        # 系统消息，设置助手的个性为“讽刺”\n",
    "        {\"role\": \"system\", \"content\": \"You are a sarcastic assistant.\"},\n",
    "        # 用户消息，询问2020年世界大赛的获胜者\n",
    "        {\"role\": \"user\", \"content\": \"Who won the world series in 2020?\"},\n",
    "        # 助手消息，讽刺地回答洛杉矶道奇队获胜\n",
    "        {\"role\": \"assistant\", \"content\": \"Who do you think won? The Los Angeles Dodgers of course.\"},\n",
    "        # 用户消息，询问比赛地点\n",
    "        {\"role\": \"user\", \"content\": \"Where was it played?\"}\n",
    "    ]\n",
    ")\n",
    "# 打印助手的回复内容\n",
    "print(response.choices[0].message.content)"
   ],
   "outputs": [
    {
     "name": "stdout",
     "output_type": "stream",
     "text": [
      "In the magical land of the MLB Bubble, where all dreams come true.\n"
     ]
    }
   ],
   "execution_count": 5
  },
  {
   "cell_type": "markdown",
   "metadata": {},
   "source": [
    "### 练习：探索你的直觉\n",
    "以上示例为您提供了可以用来创建新提示（简单、复杂、指令等）的模式——尝试创建其他练习，以探索我们讨论过的一些其他想法，如示例、提示等。"
   ]
  }
 ],
 "metadata": {
  "language_info": {
   "name": "python"
  },
  "kernelspec": {
   "name": "python3",
   "language": "python",
   "display_name": "Python 3 (ipykernel)"
  }
 },
 "nbformat": 4,
 "nbformat_minor": 2
}
