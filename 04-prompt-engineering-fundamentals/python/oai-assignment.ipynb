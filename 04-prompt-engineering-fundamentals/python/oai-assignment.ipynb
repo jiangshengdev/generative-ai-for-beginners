{
 "cells": [
  {
   "cell_type": "markdown",
   "metadata": {},
   "source": [
    "以下笔记本由 GitHub Copilot Chat 自动生成，仅用于初始设置"
   ]
  },
  {
   "cell_type": "markdown",
   "metadata": {},
   "source": [
    "# 提示工程简介\n",
    "提示工程是为自然语言处理任务设计和优化提示的过程。它涉及选择合适的提示、调整其参数以及评估其性能。提示工程对于在NLP模型中实现高准确性和效率至关重要。在本节中，我们将使用OpenAI模型来探索提示工程的基础知识。"
   ]
  },
  {
   "cell_type": "markdown",
   "metadata": {},
   "source": [
    "### 练习 1：分词\n",
    "使用 tiktoken 探索分词，这是 OpenAI 的一个开源快速分词器。\n",
    "更多示例请参见 [OpenAI Cookbook](https://github.com/openai/openai-cookbook/blob/main/examples/How_to_count_tokens_with_tiktoken.ipynb?WT.mc_id=academic-105485-koreyst)。\n"
   ]
  },
  {
   "cell_type": "code",
   "execution_count": null,
   "metadata": {},
   "outputs": [],
   "source": [
    "# 练习：\n",
    "# 1. 首先按原样运行练习\n",
    "# 2. 将文本更改为您想要使用的任何提示输入，并重新运行以查看标记\n",
    "\n",
    "import tiktoken\n",
    "\n",
    "# 定义您想要标记化的提示\n",
    "text = f\"\"\"\n",
    "Jupiter is the fifth planet from the Sun and the \\\n",
    "largest in the Solar System. It is a gas giant with \\\n",
    "a mass one-thousandth that of the Sun, but two-and-a-half \\\n",
    "times that of all the other planets in the Solar System combined. \\\n",
    "Jupiter is one of the brightest objects visible to the naked eye \\\n",
    "in the night sky, and has been known to ancient civilizations since \\\n",
    "before recorded history. It is named after the Roman god Jupiter.[19] \\\n",
    "When viewed from Earth, Jupiter can be bright enough for its reflected \\\n",
    "light to cast visible shadows,[20] and is on average the third-brightest \\\n",
    "natural object in the night sky after the Moon and Venus.\n",
    "\"\"\"\n",
    "# 定义您想要标记化的提示（中文翻译）\n",
    "# 木星是距离太阳第五颗行星，也是太阳系中最大的行星。它是一颗气体巨星，质量是太阳的千分之一，但却是太阳系中所有其他行星质量总和的两倍半。木星是夜空中肉眼可见的最亮的天体之一，自有记录以来，古代文明就已经知道它。它以罗马神朱庇特命名。从地球上看，木星的反射光可以亮到投射出可见的阴影，平均来说，它是夜空中仅次于月亮和金星的第三亮的自然天体。\n",
    "\n",
    "# 设置您想要编码的模型\n",
    "encoding = tiktoken.encoding_for_model(\"gpt-3.5-turbo\")\n",
    "\n",
    "# 对文本进行编码 - 以整数形式提供标记\n",
    "tokens = encoding.encode(text)\n",
    "print(tokens);\n",
    "\n",
    "# 解码整数以查看文本版本的样子\n",
    "[encoding.decode_single_token_bytes(token) for token in tokens]"
   ]
  },
  {
   "cell_type": "markdown",
   "metadata": {},
   "source": [
    "### 练习 2：验证 OpenAI API 密钥设置\n",
    "\n",
    "运行下面的代码以验证您的 OpenAI 端点是否设置正确。代码只是尝试一个简单的基本提示并验证完成。输入 `oh say can you see` 应该完成类似于 `by the dawn's early light..`\n"
   ]
  },
  {
   "cell_type": "code",
   "execution_count": null,
   "metadata": {},
   "outputs": [],
   "source": [
    "# OpenAI SDK 于 2023 年 11 月 8 日更新了迁移指南\n",
    "# 参见: https://github.com/openai/openai-python/discussions/742\n",
    "\n",
    "## 更新\n",
    "import os\n",
    "from openai import OpenAI\n",
    "from dotenv import load_dotenv\n",
    "load_dotenv()\n",
    "\n",
    "client = OpenAI()\n",
    "\n",
    "deployment=\"gpt-3.5-turbo\"\n",
    "\n",
    "## 更新\n",
    "def get_completion(prompt):\n",
    "    messages = [{\"role\": \"user\", \"content\": prompt}]       \n",
    "    response = client.chat.completions.create(   \n",
    "        model=deployment,                                         \n",
    "        messages=messages,\n",
    "        temperature=0, # 这是模型输出的随机程度\n",
    "        max_tokens=1024\n",
    "    )\n",
    "    return response.choices[0].message.content\n",
    "\n",
    "## ---------- 调用辅助方法\n",
    "\n",
    "### 1. 设置主要内容或提示文本\n",
    "text = f\"\"\"\n",
    "oh say can you see\n",
    "\"\"\"\n",
    "# 文本翻译：哦，你能看见吗\n",
    "\n",
    "### 2. 在下面的提示模板中使用该文本\n",
    "prompt = f\"\"\"\n",
    "```{text}```\n",
    "\"\"\"\n",
    "\n",
    "## 3. 运行提示\n",
    "response = get_completion(prompt)\n",
    "print(response)"
   ]
  },
  {
   "cell_type": "markdown",
   "metadata": {},
   "source": [
    "### 练习 3：虚构内容\n",
    "探索当你要求大型语言模型（LLM）返回关于一个可能不存在的主题或它可能不知道的主题（因为它在预训练数据集之外，较为近期）的提示完成时会发生什么。看看如果你尝试不同的提示或不同的模型，响应会如何变化。"
   ]
  },
  {
   "cell_type": "code",
   "execution_count": null,
   "metadata": {},
   "outputs": [],
   "source": [
    "## 设置简单提示或主要内容的文本\n",
    "## 提示显示带有文本的模板格式 - 如果需要添加提示、命令等\n",
    "## 运行完成\n",
    "text = f\"\"\"\n",
    "generate a lesson plan on the Martian War of 2076.\n",
    "\"\"\"\n",
    "# 文本翻译：生成关于2076年火星战争的课程计划\n",
    "\n",
    "prompt = f\"\"\"\n",
    "```{text}```\n",
    "\"\"\"\n",
    "\n",
    "response = get_completion(prompt)\n",
    "print(response)"
   ]
  },
  {
   "cell_type": "markdown",
   "metadata": {},
   "source": [
    "### 练习 4：基于指令\n",
    "使用 \"text\" 变量设置主要内容，并使用 \"prompt\" 变量提供与该主要内容相关的指令。\n",
    "\n",
    "在这里，我们要求模型为二年级学生总结文本内容。\n"
   ]
  },
  {
   "cell_type": "code",
   "execution_count": null,
   "metadata": {},
   "outputs": [],
   "source": [
    "# 测试示例\n",
    "# https://platform.openai.com/playground/p/default-summarize\n",
    "\n",
    "## 示例文本\n",
    "text = f\"\"\"\n",
    "Jupiter is the fifth planet from the Sun and the \\\n",
    "largest in the Solar System. It is a gas giant with \\\n",
    "a mass one-thousandth that of the Sun, but two-and-a-half \\\n",
    "times that of all the other planets in the Solar System combined. \\\n",
    "Jupiter is one of the brightest objects visible to the naked eye \\\n",
    "in the night sky, and has been known to ancient civilizations since \\\n",
    "before recorded history. It is named after the Roman god Jupiter.[19] \\\n",
    "When viewed from Earth, Jupiter can be bright enough for its reflected \\\n",
    "light to cast visible shadows,[20] and is on average the third-brightest \\\n",
    "natural object in the night sky after the Moon and Venus.\n",
    "\"\"\"\n",
    "# 文本翻译：木星是距离太阳第五颗行星，也是太阳系中最大的行星。它是一颗气体巨星，质量是太阳的千分之一，但却是太阳系中所有其他行星质量总和的两倍半。木星是夜空中肉眼可见的最亮的天体之一，自有记录以来，古代文明就已经知道它。它以罗马神朱庇特命名。从地球上看，木星的反射光可以亮到投射出可见的阴影，平均来说，它是夜空中仅次于月亮和金星的第三亮的自然天体。\n",
    "\n",
    "## 设置提示\n",
    "prompt = f\"\"\"\n",
    "Summarize content you are provided with for a second-grade student.\n",
    "```{text}```\n",
    "\"\"\"\n",
    "\n",
    "## Run the prompt\n",
    "response = get_completion(prompt)\n",
    "print(response)"
   ]
  },
  {
   "cell_type": "markdown",
   "metadata": {},
   "source": [
    "### 练习 5：复杂提示\n",
    "尝试一个包含系统、用户和助手消息的请求\n",
    "系统设置助手的上下文\n",
    "用户和助手消息提供多轮对话上下文\n",
    "\n",
    "注意助手的个性在系统上下文中设置为“讽刺”。\n",
    "尝试使用不同的个性上下文，或尝试不同的输入/输出消息系列"
   ]
  },
  {
   "cell_type": "code",
   "execution_count": null,
   "metadata": {},
   "outputs": [],
   "source": [
    "# 生成一个聊天完成请求\n",
    "response = client.chat.completions.create(\n",
    "    # 使用的模型\n",
    "    model=deployment,\n",
    "    # 消息列表\n",
    "    messages=[\n",
    "        # 系统消息，设置助手的个性为“讽刺”\n",
    "        {\"role\": \"system\", \"content\": \"You are a sarcastic assistant.\"},\n",
    "        # 用户消息，询问2020年世界大赛的获胜者\n",
    "        {\"role\": \"user\", \"content\": \"Who won the world series in 2020?\"},\n",
    "        # 助手消息，讽刺地回答洛杉矶道奇队获胜\n",
    "        {\"role\": \"assistant\", \"content\": \"Who do you think won? The Los Angeles Dodgers of course.\"},\n",
    "        # 用户消息，询问比赛地点\n",
    "        {\"role\": \"user\", \"content\": \"Where was it played?\"}\n",
    "    ]\n",
    ")\n",
    "# 打印助手的回复内容\n",
    "print(response.choices[0].message.content)"
   ]
  },
  {
   "cell_type": "markdown",
   "metadata": {},
   "source": [
    "### 练习：探索你的直觉\n",
    "以上示例为您提供了可以用来创建新提示（简单、复杂、指令等）的模式——尝试创建其他练习，以探索我们讨论过的一些其他想法，如示例、提示等。"
   ]
  }
 ],
 "metadata": {
  "language_info": {
   "name": "python"
  }
 },
 "nbformat": 4,
 "nbformat_minor": 2
}
